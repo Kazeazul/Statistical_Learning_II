{
 "cells": [
  {
   "cell_type": "code",
   "execution_count": 2,
   "metadata": {},
   "outputs": [],
   "source": [
    "import numpy as np"
   ]
  },
  {
   "cell_type": "markdown",
   "metadata": {},
   "source": [
    "## Función de activación"
   ]
  },
  {
   "cell_type": "code",
   "execution_count": 23,
   "metadata": {},
   "outputs": [],
   "source": [
    "def activacion(val):\n",
    "    valor = 0\n",
    "    if(val > 0):\n",
    "        valor = 1\n",
    "    return valor"
   ]
  },
  {
   "cell_type": "markdown",
   "metadata": {},
   "source": [
    "## NOT"
   ]
  },
  {
   "cell_type": "code",
   "execution_count": 42,
   "metadata": {},
   "outputs": [],
   "source": [
    "def perceptron_not(x, bias):\n",
    "    w = np.array(([-1],[1]))\n",
    "    result = activacion(np.matmul(np.array([x, bias]), w))\n",
    "    return result"
   ]
  },
  {
   "cell_type": "code",
   "execution_count": 44,
   "metadata": {},
   "outputs": [
    {
     "name": "stdout",
     "output_type": "stream",
     "text": [
      "Entrada: 0\n",
      "Salida: 1\n",
      "-----------\n",
      "Entrada: 1\n",
      "Salida: 0\n"
     ]
    }
   ],
   "source": [
    "bias = 1\n",
    "print(\"Entrada: 0\")\n",
    "print(\"Salida: \"+ str(perceptron_not(0,bias)))\n",
    "print(\"-----------\")\n",
    "print(\"Entrada: 1\")\n",
    "print(\"Salida: \"+ str(perceptron_not(1,bias)))"
   ]
  },
  {
   "cell_type": "markdown",
   "metadata": {},
   "source": [
    "## OR"
   ]
  },
  {
   "cell_type": "code",
   "execution_count": 50,
   "metadata": {},
   "outputs": [],
   "source": [
    "def perceptron_or(x1,x2,bias):\n",
    "    w = np.array(([1],[1],[-1]))\n",
    "    result = activacion(np.matmul(np.array([x1,x2,bias]),w))\n",
    "    return result"
   ]
  },
  {
   "cell_type": "code",
   "execution_count": 51,
   "metadata": {},
   "outputs": [
    {
     "name": "stdout",
     "output_type": "stream",
     "text": [
      "Entrada: 00\n",
      "Salida: 0\n",
      "-----------\n",
      "Entrada: 01\n",
      "Salida: 1\n",
      "-----------\n",
      "Entrada: 10\n",
      "Salida: 1\n",
      "-----------\n",
      "Entrada: 11\n",
      "Salida: 1\n"
     ]
    }
   ],
   "source": [
    "bias = 0\n",
    "print(\"Entrada: 00\")\n",
    "print(\"Salida: \"+ str(perceptron_or(0,0,bias)))\n",
    "print(\"-----------\")\n",
    "print(\"Entrada: 01\")\n",
    "print(\"Salida: \"+ str(perceptron_or(0,1,bias)))\n",
    "print(\"-----------\")\n",
    "print(\"Entrada: 10\")\n",
    "print(\"Salida: \"+ str(perceptron_or(1,0,bias)))\n",
    "print(\"-----------\")\n",
    "print(\"Entrada: 11\")\n",
    "print(\"Salida: \"+ str(perceptron_or(1,1,bias)))"
   ]
  },
  {
   "cell_type": "markdown",
   "metadata": {},
   "source": [
    "## AND"
   ]
  },
  {
   "cell_type": "code",
   "execution_count": 52,
   "metadata": {},
   "outputs": [],
   "source": [
    "def perceptron_and(x1,x2,bias):\n",
    "    w = np.array(([1],[1],[-1]))\n",
    "    result = activacion(np.matmul(np.array([x1,x2,bias]),w))\n",
    "    return result"
   ]
  },
  {
   "cell_type": "code",
   "execution_count": 53,
   "metadata": {},
   "outputs": [
    {
     "name": "stdout",
     "output_type": "stream",
     "text": [
      "Entrada: 00\n",
      "Salida: 0\n",
      "-----------\n",
      "Entrada: 01\n",
      "Salida: 0\n",
      "-----------\n",
      "Entrada: 10\n",
      "Salida: 0\n",
      "-----------\n",
      "Entrada: 11\n",
      "Salida: 1\n"
     ]
    }
   ],
   "source": [
    "bias = 1\n",
    "print(\"Entrada: 00\")\n",
    "print(\"Salida: \"+ str(perceptron_and(0,0,bias)))\n",
    "print(\"-----------\")\n",
    "print(\"Entrada: 01\")\n",
    "print(\"Salida: \"+ str(perceptron_and(0,1,bias)))\n",
    "print(\"-----------\")\n",
    "print(\"Entrada: 10\")\n",
    "print(\"Salida: \"+ str(perceptron_and(1,0,bias)))\n",
    "print(\"-----------\")\n",
    "print(\"Entrada: 11\")\n",
    "print(\"Salida: \"+ str(perceptron_and(1,1,bias)))"
   ]
  },
  {
   "cell_type": "markdown",
   "metadata": {},
   "source": [
    "## XOR"
   ]
  },
  {
   "cell_type": "code",
   "execution_count": 54,
   "metadata": {},
   "outputs": [],
   "source": [
    "def perceptron_xor(x1,x2,bias):\n",
    "    r_and = perceptron_and(x1,x2,bias)\n",
    "    r_not = perceptron_not(r_and, bias)\n",
    "    r_or = perceptron_or(x1,x2,0)\n",
    "    r_xor = perceptron_and(r_not, r_or, bias)\n",
    "    return r_xor"
   ]
  },
  {
   "cell_type": "code",
   "execution_count": 55,
   "metadata": {},
   "outputs": [
    {
     "name": "stdout",
     "output_type": "stream",
     "text": [
      "Entrada: 00\n",
      "Salida: 0\n",
      "-----------\n",
      "Entrada: 01\n",
      "Salida: 1\n",
      "-----------\n",
      "Entrada: 10\n",
      "Salida: 1\n",
      "-----------\n",
      "Entrada: 11\n",
      "Salida: 0\n"
     ]
    }
   ],
   "source": [
    "bias = 1\n",
    "print(\"Entrada: 00\")\n",
    "print(\"Salida: \"+ str(perceptron_xor(0,0,bias)))\n",
    "print(\"-----------\")\n",
    "print(\"Entrada: 01\")\n",
    "print(\"Salida: \"+ str(perceptron_xor(0,1,bias)))\n",
    "print(\"-----------\")\n",
    "print(\"Entrada: 10\")\n",
    "print(\"Salida: \"+ str(perceptron_xor(1,0,bias)))\n",
    "print(\"-----------\")\n",
    "print(\"Entrada: 11\")\n",
    "print(\"Salida: \"+ str(perceptron_xor(1,1,bias)))"
   ]
  }
 ],
 "metadata": {
  "kernelspec": {
   "display_name": "Python 3",
   "language": "python",
   "name": "python3"
  },
  "language_info": {
   "codemirror_mode": {
    "name": "ipython",
    "version": 3
   },
   "file_extension": ".py",
   "mimetype": "text/x-python",
   "name": "python",
   "nbconvert_exporter": "python",
   "pygments_lexer": "ipython3",
   "version": "3.7.3"
  }
 },
 "nbformat": 4,
 "nbformat_minor": 2
}
