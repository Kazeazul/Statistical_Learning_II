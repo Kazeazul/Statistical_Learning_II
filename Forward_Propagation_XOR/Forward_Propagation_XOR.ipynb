{
 "cells": [
  {
   "cell_type": "code",
   "execution_count": 1,
   "metadata": {},
   "outputs": [],
   "source": [
    "import numpy as np, matplotlib.pyplot as plt"
   ]
  },
  {
   "cell_type": "markdown",
   "metadata": {},
   "source": [
    "### Función de activación"
   ]
  },
  {
   "cell_type": "code",
   "execution_count": 2,
   "metadata": {},
   "outputs": [],
   "source": [
    "def binary_step(data):\n",
    "    return np.where(data >= 0, 1, 0)"
   ]
  },
  {
   "cell_type": "markdown",
   "metadata": {},
   "source": [
    "### Forward Propagation para operación XOR"
   ]
  },
  {
   "cell_type": "code",
   "execution_count": 3,
   "metadata": {},
   "outputs": [],
   "source": [
    "def forward_propagation_xor(data_x):\n",
    "    #Agregando columna de unos a la data\n",
    "    bias = np.ones((data_x.shape[0], 1))\n",
    "    data_x = np.hstack((data_x, bias))\n",
    "    #Pesos capa oculta y capa de salida\n",
    "    hl = np.array([[20, 20, -10], [-20, -20, 30]])\n",
    "    ol = np.array([[20, 20, -30]])\n",
    "    #Operación\n",
    "    r_hl = binary_step(np.matmul(hl, data_x.T))\n",
    "    #Agregando columna de unos\n",
    "    bias = np.ones((r_hl.shape[1]))\n",
    "    r_hl = np.vstack((r_hl, bias))\n",
    "    r_ol = binary_step(np.matmul(ol, r_hl))\n",
    "    return r_ol, binary_step(np.matmul(hl, data_x.T))"
   ]
  },
  {
   "cell_type": "code",
   "execution_count": 4,
   "metadata": {},
   "outputs": [],
   "source": [
    "data_x = np.array([[0, 0], [0, 1], [1, 0], [1, 1]])"
   ]
  },
  {
   "cell_type": "code",
   "execution_count": 5,
   "metadata": {},
   "outputs": [
    {
     "data": {
      "text/plain": [
       "array([[0, 1, 1, 0]])"
      ]
     },
     "execution_count": 5,
     "metadata": {},
     "output_type": "execute_result"
    }
   ],
   "source": [
    "resultado, hl = forward_propagation_xor(data_x)\n",
    "resultado"
   ]
  },
  {
   "cell_type": "markdown",
   "metadata": {},
   "source": [
    "***\n",
    "# Gráficas"
   ]
  },
  {
   "cell_type": "markdown",
   "metadata": {},
   "source": [
    "### Resultado"
   ]
  },
  {
   "cell_type": "code",
   "execution_count": 6,
   "metadata": {},
   "outputs": [
    {
     "data": {
      "text/plain": [
       "<matplotlib.legend.Legend at 0x7f5fe86d6e10>"
      ]
     },
     "execution_count": 6,
     "metadata": {},
     "output_type": "execute_result"
    },
    {
     "data": {
      "image/png": "[encoded data removed]",
      "text/plain": [
       "<Figure size 432x288 with 1 Axes>"
      ]
     },
     "metadata": {
      "needs_background": "light"
     },
     "output_type": "display_data"
    }
   ],
   "source": [
    "for index, r in enumerate(list(resultado.reshape((-1,1)))):\n",
    "    if r == 1:\n",
    "        plt.scatter(data_x[index, 0], data_x[index, 1], marker = \"o\", color = \"r\")\n",
    "    elif r == 0:\n",
    "        plt.scatter(data_x[index, 0], data_x[index, 1], marker = \"o\", color = \"b\")\n",
    "plt.title(\"Resultado forward propagation\")\n",
    "plt.gca().legend((\"0\", \"1\"))"
   ]
  },
  {
   "cell_type": "markdown",
   "metadata": {},
   "source": [
    "### Primer resultado capa oculta"
   ]
  },
  {
   "cell_type": "code",
   "execution_count": 7,
   "metadata": {},
   "outputs": [
    {
     "data": {
      "text/plain": [
       "<matplotlib.legend.Legend at 0x7f5fe85ee9b0>"
      ]
     },
     "execution_count": 7,
     "metadata": {},
     "output_type": "execute_result"
    },
    {
     "data": {
      "image/png": "[encoded data removed]",
      "text/plain": [
       "<Figure size 432x288 with 1 Axes>"
      ]
     },
     "metadata": {
      "needs_background": "light"
     },
     "output_type": "display_data"
    }
   ],
   "source": [
    "for index, r in enumerate(list(hl[0].reshape((-1,1)))):\n",
    "    if r == 1:\n",
    "        plt.scatter(data_x[index, 0], data_x[index, 1], marker = \"o\", color = \"r\")\n",
    "    elif r == 0:\n",
    "        plt.scatter(data_x[index, 0], data_x[index, 1], marker = \"o\", color = \"b\")\n",
    "plt.title(\"Resultado capa oculta 1\")\n",
    "plt.gca().legend((\"0\", \"1\"))"
   ]
  },
  {
   "cell_type": "markdown",
   "metadata": {},
   "source": [
    "### Segundo resultado capa oculta"
   ]
  },
  {
   "cell_type": "code",
   "execution_count": 8,
   "metadata": {},
   "outputs": [
    {
     "data": {
      "text/plain": [
       "<matplotlib.legend.Legend at 0x7f5fe8566128>"
      ]
     },
     "execution_count": 8,
     "metadata": {},
     "output_type": "execute_result"
    },
    {
     "data": {
      "image/png": "[encoded data removed]",
      "text/plain": [
       "<Figure size 432x288 with 1 Axes>"
      ]
     },
     "metadata": {
      "needs_background": "light"
     },
     "output_type": "display_data"
    }
   ],
   "source": [
    "for index, r in enumerate(list(hl[1].reshape((-1,1)))):\n",
    "    if r == 1:\n",
    "        plt.scatter(data_x[index, 0], data_x[index, 1], marker = \"o\", color = \"r\")\n",
    "    elif r == 0:\n",
    "        plt.scatter(data_x[index, 0], data_x[index, 1], marker = \"o\", color = \"b\")\n",
    "plt.title(\"Resultado capa oculta 2\")\n",
    "plt.gca().legend((\"0\", \"1\"))"
   ]
  },
  {
   "cell_type": "markdown",
   "metadata": {},
   "source": [
    "***\n",
    "# Conclusión"
   ]
  },
  {
   "cell_type": "markdown",
   "metadata": {},
   "source": [
    "* El primer resultado de la capa oculta se encarga de identificar la combinación [0, 0] y le asigna un 0\n",
    "* El segundo resultado de la capa oculta se encarga de identificar la combinación [1, 1] y le asigna un 0\n",
    "* La operación de nuestra salida del xor se encarga de realizar una operación AND entre el primer y segundo resultado de la capa oculta."
   ]
  }
 ],
 "metadata": {
  "kernelspec": {
   "display_name": "Python 3",
   "language": "python",
   "name": "python3"
  },
  "language_info": {
   "codemirror_mode": {
    "name": "ipython",
    "version": 3
   },
   "file_extension": ".py",
   "mimetype": "text/x-python",
   "name": "python",
   "nbconvert_exporter": "python",
   "pygments_lexer": "ipython3",
   "version": "3.7.3"
  }
 },
 "nbformat": 4,
 "nbformat_minor": 2
}
