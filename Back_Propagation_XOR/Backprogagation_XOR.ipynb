{
 "cells": [
  {
   "cell_type": "code",
   "execution_count": 1,
   "metadata": {},
   "outputs": [],
   "source": [
    "import numpy as np, matplotlib.pyplot as plt"
   ]
  },
  {
   "cell_type": "code",
   "execution_count": 2,
   "metadata": {},
   "outputs": [],
   "source": [
    "def binary_step(data):\n",
    "    return np.where(data >= 0, 1, 0)"
   ]
  },
  {
   "cell_type": "code",
   "execution_count": 3,
   "metadata": {},
   "outputs": [],
   "source": [
    "def forward_propagation_xor(data_x):\n",
    "    #Agregando columna de unos a la data\n",
    "    bias = np.ones((data_x.shape[0], 1))\n",
    "    data_x = np.hstack((data_x, bias))\n",
    "    #Pesos capa oculta y capa de salida\n",
    "    hl = np.array([[20, 20, -10], [-20, -20, 30]])\n",
    "    ol = np.array([[20, 20, -30]])\n",
    "    #Operación\n",
    "    r_hl = binary_step(np.matmul(hl, data_x.T))\n",
    "    #Agregando columna de unos\n",
    "    bias = np.ones((r_hl.shape[1]))\n",
    "    r_hl = np.vstack((r_hl, bias))\n",
    "    r_ol = binary_step(np.matmul(ol, r_hl))\n",
    "    return r_ol, binary_step(np.matmul(hl, data_x.T))"
   ]
  },
  {
   "cell_type": "code",
   "execution_count": 4,
   "metadata": {},
   "outputs": [],
   "source": [
    "data_x = np.array([[0, 0], [0, 1], [1, 0], [1, 1]])"
   ]
  },
  {
   "cell_type": "code",
   "execution_count": 5,
   "metadata": {},
   "outputs": [
    {
     "data": {
      "text/plain": [
       "array([[0, 1, 1, 0]])"
      ]
     },
     "execution_count": 5,
     "metadata": {},
     "output_type": "execute_result"
    }
   ],
   "source": [
    "resultado, hl = forward_propagation_xor(data_x)\n",
    "resultado"
   ]
  },
  {
   "cell_type": "markdown",
   "metadata": {},
   "source": [
    "***\n",
    "## Backpropagation"
   ]
  },
  {
   "cell_type": "code",
   "execution_count": 6,
   "metadata": {},
   "outputs": [],
   "source": [
    "def sigmoid(data):\n",
    "    return 1/(1 + np.exp(-data))"
   ]
  },
  {
   "cell_type": "code",
   "execution_count": 38,
   "metadata": {},
   "outputs": [],
   "source": [
    "def backpropagation(data_x, data_y, lr, epochs):\n",
    "    bias = np.ones((data_x.shape[0], 1))\n",
    "    data_x = np.hstack((data_x, bias))\n",
    "    hw = np.sqrt(1/3)*np.random.randn(3,3)\n",
    "    ow = np.random.uniform(size=(3,1))\n",
    "    #predictions = 0\n",
    "    for epoch in range(epochs):\n",
    "        hl_o = sigmoid(np.matmul(data_x, hw))\n",
    "        y_hat = sigmoid(np.matmul(hl_o, ow))\n",
    "        error = data_y.T - y_hat\n",
    "        d_yhat = error * y_hat * (1-y_hat)\n",
    "        error_hl = np.matmul(d_yhat, ow.T)\n",
    "        d_hl = error_hl * hl_o * (1 - hl_o)\n",
    "        ow = ow + lr * np.matmul(hl_o.T, d_yhat)\n",
    "        hw = hw + lr * np.matmul(data_x.T, d_hl)\n",
    "    return y_hat, hw, ow"
   ]
  },
  {
   "cell_type": "code",
   "execution_count": 52,
   "metadata": {},
   "outputs": [],
   "source": [
    "resultado_bp, hw, ow = backpropagation(data_x, resultado, 10, 100)"
   ]
  },
  {
   "cell_type": "code",
   "execution_count": 53,
   "metadata": {},
   "outputs": [
    {
     "data": {
      "text/plain": [
       "<matplotlib.legend.Legend at 0x7fe3ed77abe0>"
      ]
     },
     "execution_count": 53,
     "metadata": {},
     "output_type": "execute_result"
    },
    {
     "data": {
      "image/png": "[encoded data removed]",
      "text/plain": [
       "<Figure size 432x288 with 1 Axes>"
      ]
     },
     "metadata": {
      "needs_background": "light"
     },
     "output_type": "display_data"
    }
   ],
   "source": [
    "for index, r in enumerate(list(resultado_bp.reshape((-1,1)))):\n",
    "    if r >= 0.9:\n",
    "        plt.scatter(data_x[index, 0], data_x[index, 1], marker = \"o\", color = \"r\")\n",
    "    elif r <= 0.5:\n",
    "        plt.scatter(data_x[index, 0], data_x[index, 1], marker = \"o\", color = \"b\")\n",
    "plt.title(\"Resultado backward propagation\")\n",
    "plt.gca().legend((\"0\", \"1\"))"
   ]
  }
 ],
 "metadata": {
  "kernelspec": {
   "display_name": "Python 3",
   "language": "python",
   "name": "python3"
  },
  "language_info": {
   "codemirror_mode": {
    "name": "ipython",
    "version": 3
   },
   "file_extension": ".py",
   "mimetype": "text/x-python",
   "name": "python",
   "nbconvert_exporter": "python",
   "pygments_lexer": "ipython3",
   "version": "3.7.3"
  }
 },
 "nbformat": 4,
 "nbformat_minor": 2
}
